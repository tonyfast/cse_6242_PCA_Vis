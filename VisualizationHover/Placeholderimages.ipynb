{
 "metadata": {
  "name": "",
  "signature": "sha256:66220dcd4cb7de853454b6fce52be013f97fcf211d5f51ab6d4c6dd35e77f79f"
 },
 "nbformat": 3,
 "nbformat_minor": 0,
 "worksheets": [
  {
   "cells": [
    {
     "cell_type": "markdown",
     "metadata": {},
     "source": [
      "# Create fake files \n",
      "\n",
      "Create fake files to use in place the of the images I don't have to develop the image presentation function.\n",
      "\n",
      "* Reduce test data size\n",
      "* Get Fake Images from lorempixel\n",
      "* Save them as the anticipated file names"
     ]
    },
    {
     "cell_type": "code",
     "collapsed": false,
     "input": [
      "import json\n",
      "import urllib\n",
      "import os"
     ],
     "language": "python",
     "metadata": {},
     "outputs": [],
     "prompt_number": 43
    },
    {
     "cell_type": "code",
     "collapsed": false,
     "input": [
      "# Leaner test data\n",
      "\n",
      "Make new test"
     ],
     "language": "python",
     "metadata": {},
     "outputs": []
    },
    {
     "cell_type": "code",
     "collapsed": false,
     "input": [
      "fo = open('Vis_data.json');\n",
      "s = json.load( fo )\n",
      "fo.close()\n",
      "\n",
      "del s[100:]\n",
      "\n",
      "fo = open('Vis_data2.json','w');\n",
      "json.dump( s, fo )\n",
      "fo.close()"
     ],
     "language": "python",
     "metadata": {},
     "outputs": [],
     "prompt_number": 40
    },
    {
     "cell_type": "code",
     "collapsed": false,
     "input": [
      "fo = open('Vis_data2.json');\n",
      "s = json.load( fo )\n",
      "fo.close()\n",
      "print len(s)"
     ],
     "language": "python",
     "metadata": {},
     "outputs": [
      {
       "output_type": "stream",
       "stream": "stdout",
       "text": [
        "100\n"
       ]
      }
     ],
     "prompt_number": 41
    },
    {
     "cell_type": "code",
     "collapsed": false,
     "input": [
      "fils = [];\n",
      "for pts in s:\n",
      "    f = urllib.urlretrieve(\"http://lorempixel.com/100/100/\", \n",
      "                        str(pts['pic']) )\n",
      "    fils.append( f[0] ) "
     ],
     "language": "python",
     "metadata": {},
     "outputs": [],
     "prompt_number": 42
    }
   ],
   "metadata": {}
  }
 ]
}